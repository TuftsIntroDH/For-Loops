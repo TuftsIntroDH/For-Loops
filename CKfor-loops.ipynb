{
 "cells": [
  {
   "cell_type": "markdown",
   "metadata": {},
   "source": [
    "\n",
    "4-13. Buffet: A buffet-style restaurant offers only five basic foods. Think of five simple foods, and store them in a tuple.\n",
    "• Use a for loop to print each food the restaurant offers.\n",
    "• Try to modify one of the items, and make sure that Python rejects the\n",
    "change.\n",
    "• The restaurant changes its menu, replacing two of the items with different foods. Add a line that rewrites the tuple, and then use a for loop to print each of the items on the revised menu."
   ]
  },
  {
   "cell_type": "code",
   "execution_count": 1,
   "metadata": {},
   "outputs": [
    {
     "name": "stdout",
     "output_type": "stream",
     "text": [
      "menu:\n",
      "bread\n"
     ]
    },
    {
     "ename": "TypeError",
     "evalue": "'tuple' object does not support item assignment",
     "output_type": "error",
     "traceback": [
      "\u001b[0;31m---------------------------------------------------------------------------\u001b[0m",
      "\u001b[0;31mTypeError\u001b[0m                                 Traceback (most recent call last)",
      "Cell \u001b[0;32mIn[1], line 7\u001b[0m\n\u001b[1;32m      4\u001b[0m \u001b[38;5;28;01mfor\u001b[39;00m food \u001b[38;5;129;01min\u001b[39;00m foods:\n\u001b[1;32m      5\u001b[0m     \u001b[38;5;28mprint\u001b[39m(food)\n\u001b[0;32m----> 7\u001b[0m     \u001b[43mfoods\u001b[49m\u001b[43m[\u001b[49m\u001b[38;5;241;43m0\u001b[39;49m\u001b[43m]\u001b[49m \u001b[38;5;241m=\u001b[39m \u001b[38;5;124m'\u001b[39m\u001b[38;5;124msandwich\u001b[39m\u001b[38;5;124m'\u001b[39m\n\u001b[1;32m      8\u001b[0m     \u001b[38;5;66;03m#produces an error\u001b[39;00m\n\u001b[1;32m     10\u001b[0m foods \u001b[38;5;241m=\u001b[39m (\u001b[38;5;124m'\u001b[39m\u001b[38;5;124mburger\u001b[39m\u001b[38;5;124m'\u001b[39m, \u001b[38;5;124m'\u001b[39m\u001b[38;5;124mpasta\u001b[39m\u001b[38;5;124m'\u001b[39m, \u001b[38;5;124m'\u001b[39m\u001b[38;5;124mmeatloaf\u001b[39m\u001b[38;5;124m'\u001b[39m, \u001b[38;5;124m'\u001b[39m\u001b[38;5;124msoup\u001b[39m\u001b[38;5;124m'\u001b[39m, \u001b[38;5;124m'\u001b[39m\u001b[38;5;124mveggies\u001b[39m\u001b[38;5;124m'\u001b[39m)   \n",
      "\u001b[0;31mTypeError\u001b[0m: 'tuple' object does not support item assignment"
     ]
    }
   ],
   "source": [
    "\n",
    "foods = ('bread', 'pasta', 'salad', 'soup', 'veggies')\n",
    "\n",
    "print (\"menu:\")\n",
    "for food in foods:\n",
    "    print(food)\n",
    "\n",
    "    foods[0] = 'sandwich'\n",
    "    #produces an error\n",
    "\n",
    "foods = ('burger', 'pasta', 'meatloaf', 'soup', 'veggies')   \n",
    "\n",
    "print(\"new menu:\")\n",
    "for food in foods:\n",
    "    print(food)\n"
   ]
  },
  {
   "cell_type": "code",
   "execution_count": 13,
   "metadata": {},
   "outputs": [
    {
     "name": "stdout",
     "output_type": "stream",
     "text": [
      "menu:\n",
      "bread\n",
      "pasta\n",
      "salad\n",
      "soup\n",
      "veggies\n",
      "new menu:\n",
      "burger\n",
      "pasta\n",
      "meatloaf\n",
      "soup\n",
      "veggies\n"
     ]
    }
   ],
   "source": [
    "\n",
    "foods = ('bread', 'pasta', 'salad', 'soup', 'veggies')\n",
    "\n",
    "print (\"menu:\")\n",
    "for food in foods:\n",
    "    print(food)\n",
    "\n",
    "\n",
    "foods = ('burger', 'pasta', 'meatloaf', 'soup', 'veggies')   \n",
    "\n",
    "print(\"new menu:\")\n",
    "for food in foods:\n",
    "    print(food)"
   ]
  }
 ],
 "metadata": {
  "kernelspec": {
   "display_name": "Python 3",
   "language": "python",
   "name": "python3"
  },
  "language_info": {
   "codemirror_mode": {
    "name": "ipython",
    "version": 3
   },
   "file_extension": ".py",
   "mimetype": "text/x-python",
   "name": "python",
   "nbconvert_exporter": "python",
   "pygments_lexer": "ipython3",
   "version": "3.12.1"
  }
 },
 "nbformat": 4,
 "nbformat_minor": 2
}
