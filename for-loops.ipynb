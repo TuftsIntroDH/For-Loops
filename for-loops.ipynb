{
 "cells": [
  {
   "cell_type": "markdown",
   "metadata": {},
   "source": [
    "# For Loops\n",
    "\n",
    "You've heard of Froot Loops®, but what about `for` loops? Python makes extensive use of `for` loops — so called because they iterature through a collection, as opposed to `while` loops, which loop while a condition is `True`.\n",
    "\n",
    "(These exercises are heavily inspired by Matthes 2023, ch. 4.)"
   ]
  },
  {
   "cell_type": "markdown",
   "metadata": {},
   "source": [
    "## Closing the loop\n",
    "\n",
    "The most basic `for` loop simply proceeds through a list."
   ]
  },
  {
   "cell_type": "code",
   "execution_count": 2,
   "metadata": {},
   "outputs": [
    {
     "name": "stdout",
     "output_type": "stream",
     "text": [
      "odysseus\n",
      "neoptolemus\n",
      "philoctetes\n"
     ]
    }
   ],
   "source": [
    "cast = [\"odysseus\", \"neoptolemus\", \"philoctetes\"]\n",
    "\n",
    "for character in cast:\n",
    "    print(character)"
   ]
  },
  {
   "cell_type": "markdown",
   "metadata": {},
   "source": [
    "Let's break this down:\n",
    "\n",
    "1. `cast = [\"odysseus\", \"neoptolemus\", \"philoctetes\"]` declares a variable and assigns to it the list containing the `str`-names of the main cast of Sophocles' _Philoctetes_.\n",
    "2. `for character in cast:` opens a `for` loop, assigning each item in `cast` to the variable `character` — which is only defined inside the loop. The name `character` is unimportant — you could us any valid Pyhon variable. But it's good practice to use names that are descriptive of the contents.\n",
    "3. `    print(character)` prints the `str`-name of each `character`. Notice the indentation!\n",
    "\n",
    "Obviously, you can do a lot more than simply `print()` in a loop. Try title-casing each name, adding some text afterwards, and printing the result."
   ]
  },
  {
   "cell_type": "code",
   "execution_count": 7,
   "metadata": {},
   "outputs": [
    {
     "name": "stdout",
     "output_type": "stream",
     "text": [
      "Odysseus text text text\n",
      "Neoptolemus text text text\n",
      "Philoctetes text text text\n"
     ]
    }
   ],
   "source": [
    "# Hint: Use print(f\"{variable}\")\n",
    "\n",
    "for character in cast:\n",
    "    print(f\"{character.title()} text text text\")"
   ]
  },
  {
   "cell_type": "markdown",
   "metadata": {},
   "source": [
    "You can also continue to execute code after the `for` loop:"
   ]
  },
  {
   "cell_type": "code",
   "execution_count": 3,
   "metadata": {},
   "outputs": [
    {
     "name": "stdout",
     "output_type": "stream",
     "text": [
      "odysseus\n",
      "neoptolemus\n",
      "philoctetes\n",
      "And now the loop is done!\n"
     ]
    }
   ],
   "source": [
    "cast = [\"odysseus\", \"neoptolemus\", \"philoctetes\"]\n",
    "\n",
    "for character in cast:\n",
    "    print(character)\n",
    "\n",
    "print(\"And now the loop is done!\")"
   ]
  },
  {
   "cell_type": "markdown",
   "metadata": {},
   "source": [
    "## Indentation errors\n",
    "\n",
    "Remember how I said to be careful of the indentation above? What happens if we forget about it?"
   ]
  },
  {
   "cell_type": "code",
   "execution_count": 4,
   "metadata": {},
   "outputs": [
    {
     "ename": "IndentationError",
     "evalue": "expected an indented block after 'for' statement on line 3 (3799840020.py, line 4)",
     "output_type": "error",
     "traceback": [
      "\u001b[0;36m  Cell \u001b[0;32mIn[4], line 4\u001b[0;36m\u001b[0m\n\u001b[0;31m    print(character)\u001b[0m\n\u001b[0m    ^\u001b[0m\n\u001b[0;31mIndentationError\u001b[0m\u001b[0;31m:\u001b[0m expected an indented block after 'for' statement on line 3\n"
     ]
    }
   ],
   "source": [
    "cast = [\"odysseus\", \"neoptolemus\", \"philoctetes\"]\n",
    "\n",
    "for character in cast:\n",
    "print(character)\n",
    "\n",
    "print(\"And now the loop is done!\")"
   ]
  },
  {
   "cell_type": "markdown",
   "metadata": {},
   "source": [
    "Python warns us that we've got an `IndentationError`. What if instead we forget to outdent after the loop?"
   ]
  },
  {
   "cell_type": "code",
   "execution_count": 5,
   "metadata": {},
   "outputs": [
    {
     "name": "stdout",
     "output_type": "stream",
     "text": [
      "odysseus\n",
      "And now the loop is done!\n",
      "neoptolemus\n",
      "And now the loop is done!\n",
      "philoctetes\n",
      "And now the loop is done!\n"
     ]
    }
   ],
   "source": [
    "cast = [\"odysseus\", \"neoptolemus\", \"philoctetes\"]\n",
    "\n",
    "for character in cast:\n",
    "    print(character)\n",
    "\n",
    "    print(\"And now the loop is done!\")"
   ]
  },
  {
   "cell_type": "markdown",
   "metadata": {},
   "source": [
    "Or reuse the `for` loop's variable after we've outdented?"
   ]
  },
  {
   "cell_type": "code",
   "execution_count": 9,
   "metadata": {},
   "outputs": [
    {
     "name": "stdout",
     "output_type": "stream",
     "text": [
      "odysseus\n",
      "neoptolemus\n",
      "philoctetes\n",
      "philoctetes was played by a great actor!\n"
     ]
    }
   ],
   "source": [
    "cast = [\"odysseus\", \"neoptolemus\", \"philoctetes\"]\n",
    "\n",
    "last_actor_seen = None\n",
    "for character in cast:\n",
    "    last_actor_seen = character\n",
    "    print(character)\n",
    "\n",
    "print(f\"{last_actor_seen} was played by a great actor!\")"
   ]
  },
  {
   "cell_type": "markdown",
   "metadata": {},
   "source": [
    "> Discuss: What other syntax mistakes might occur when writing loops?"
   ]
  },
  {
   "cell_type": "markdown",
   "metadata": {},
   "source": [
    "## Lists are all the `range()`\n",
    "\n",
    "We can use the `range()` function to loop over a series of numbers:"
   ]
  },
  {
   "cell_type": "code",
   "execution_count": 10,
   "metadata": {},
   "outputs": [
    {
     "name": "stdout",
     "output_type": "stream",
     "text": [
      "1 is greater than 0\n",
      "2 is greater than 1\n",
      "3 is greater than 2\n",
      "4 is greater than 3\n"
     ]
    }
   ],
   "source": [
    "for value in range(1, 5):\n",
    "    print(f\"{value} is greater than {value - 1}\")"
   ]
  },
  {
   "cell_type": "markdown",
   "metadata": {},
   "source": [
    "Note that `range()` doesn't actually return a `list`. If we want a `list` instead of a `range` object, we need to _coerce_ the result of range: "
   ]
  },
  {
   "cell_type": "code",
   "execution_count": 11,
   "metadata": {},
   "outputs": [
    {
     "data": {
      "text/plain": [
       "[0, 2, 4, 6, 8]"
      ]
     },
     "execution_count": 11,
     "metadata": {},
     "output_type": "execute_result"
    }
   ],
   "source": [
    "# We can use the third argument to adjust the size of each step\n",
    "list(range(0, 10, 2))"
   ]
  },
  {
   "cell_type": "code",
   "execution_count": 12,
   "metadata": {},
   "outputs": [
    {
     "data": {
      "text/plain": [
       "[0, 1, 2, 3, 4, 5, 6, 7, 8, 9]"
      ]
     },
     "execution_count": 12,
     "metadata": {},
     "output_type": "execute_result"
    }
   ],
   "source": [
    "# Or we can pass `range()` just one argument, and it will start from 0:\n",
    "list(range(10))"
   ]
  },
  {
   "cell_type": "markdown",
   "metadata": {},
   "source": [
    "## Comprehending lists\n",
    "\n",
    "**List comprehensions** are useful for filtering or manipulating lists. (Python does have `map`, `filter`, and `reduce` functions, but list comprehensions are considered more \"Pythonic.\")"
   ]
  },
  {
   "cell_type": "code",
   "execution_count": 13,
   "metadata": {},
   "outputs": [
    {
     "data": {
      "text/plain": [
       "[2, 3, 4, 5, 6]"
      ]
     },
     "execution_count": 13,
     "metadata": {},
     "output_type": "execute_result"
    }
   ],
   "source": [
    "[value+2 for value in range(0, 5)]"
   ]
  },
  {
   "cell_type": "markdown",
   "metadata": {},
   "source": [
    "Note that we have a list (the outer square brackets), and inside the list we have a `for` loop that assigns each step from `range(0, 5)` to the variable `value`. The final list is the result of taking each `value` and adding `2` to it."
   ]
  },
  {
   "cell_type": "markdown",
   "metadata": {},
   "source": [
    "## Slice and dice\n",
    "\n",
    "Taking a `slice` of a list is as simple as passing some indexes:"
   ]
  },
  {
   "cell_type": "code",
   "execution_count": 14,
   "metadata": {},
   "outputs": [
    {
     "name": "stdout",
     "output_type": "stream",
     "text": [
      "[2, 3, 4, 5, 6, 7]\n",
      "[0, 1, 2, 3, 4, 5, 6, 7, 8, 9, 10, 11, 12, 13, 14, 15, 16, 17, 18]\n",
      "[15, 16, 17, 18, 19]\n"
     ]
    }
   ],
   "source": [
    "numbers = list(range(0, 20)) - right is exclusive so this goes from 0 to 19\n",
    "\n",
    "print(numbers[2:8])\n",
    "\n",
    "print(numbers[:-1])\n",
    "\n",
    "print(numbers[15:])"
   ]
  },
  {
   "cell_type": "markdown",
   "metadata": {},
   "source": [
    "Based one these results, can you infer how slices work? What if you tried writing a `for` loop for just a slice of a list?"
   ]
  },
  {
   "cell_type": "code",
   "execution_count": null,
   "metadata": {},
   "outputs": [],
   "source": [
    "# Try looping over a slice here"
   ]
  },
  {
   "cell_type": "markdown",
   "metadata": {},
   "source": [
    "## Copy\n",
    "\n",
    "If you specify a slice without any indexes, you'll get a copy of the list."
   ]
  },
  {
   "cell_type": "markdown",
   "metadata": {},
   "source": [
    "## Tuples\n",
    "\n",
    "Tuples are like lists, but they are **immutable**, meaning you cannot assign new values to elements in tuples after they have been declared."
   ]
  },
  {
   "cell_type": "code",
   "execution_count": null,
   "metadata": {},
   "outputs": [],
   "source": [
    "my_tuple = (1, 2, 3)\n",
    "\n",
    "my_tuple[1] = 5"
   ]
  },
  {
   "cell_type": "markdown",
   "metadata": {},
   "source": [
    "## Now with style!\n",
    "\n",
    "TL;DR: Follow PEP 8, and use formatters to help enforce good style. Readability of code is half the battle!"
   ]
  },
  {
   "cell_type": "markdown",
   "metadata": {},
   "source": [
    "## Exercises\n",
    "\n",
    "Matthes 2023, p. 67, Exercise 4-13."
   ]
  },
  {
   "cell_type": "code",
   "execution_count": 3,
   "metadata": {},
   "outputs": [
    {
     "data": {
      "text/plain": [
       "('eggs', 'pancakes', 'waffles', 'chicken fingers', 'mac n cheese')"
      ]
     },
     "execution_count": 3,
     "metadata": {},
     "output_type": "execute_result"
    }
   ],
   "source": [
    "my_tuple = ('eggs', 'pancakes', 'waffles', 'chicken fingers', 'mac n cheese')\n",
    "my_tuple"
   ]
  },
  {
   "cell_type": "code",
   "execution_count": 4,
   "metadata": {},
   "outputs": [
    {
     "name": "stdout",
     "output_type": "stream",
     "text": [
      "eggs\n",
      "pancakes\n",
      "waffles\n",
      "chicken fingers\n",
      "mac n cheese\n"
     ]
    }
   ],
   "source": [
    "for food in my_tuple:\n",
    "    print(food)"
   ]
  },
  {
   "cell_type": "code",
   "execution_count": 17,
   "metadata": {},
   "outputs": [
    {
     "ename": "AttributeError",
     "evalue": "'tuple' object has no attribute 'append'",
     "output_type": "error",
     "traceback": [
      "\u001b[0;31m---------------------------------------------------------------------------\u001b[0m",
      "\u001b[0;31mAttributeError\u001b[0m                            Traceback (most recent call last)",
      "Cell \u001b[0;32mIn[17], line 1\u001b[0m\n\u001b[0;32m----> 1\u001b[0m \u001b[43mmy_tuple\u001b[49m\u001b[38;5;241;43m.\u001b[39;49m\u001b[43mappend\u001b[49m(\u001b[38;5;124m'\u001b[39m\u001b[38;5;124mburger\u001b[39m\u001b[38;5;124m'\u001b[39m, \u001b[38;5;124m'\u001b[39m\u001b[38;5;124mhot dogs\u001b[39m\u001b[38;5;124m'\u001b[39m)\n",
      "\u001b[0;31mAttributeError\u001b[0m: 'tuple' object has no attribute 'append'"
     ]
    }
   ],
   "source": [
    "my_tuple.append('burger', 'hot dogs')"
   ]
  },
  {
   "cell_type": "code",
   "execution_count": 16,
   "metadata": {},
   "outputs": [
    {
     "name": "stdout",
     "output_type": "stream",
     "text": [
      "\n",
      "Modified food:\n",
      "burger\n",
      "hot dogs\n",
      "waffles\n",
      "chicken fingers\n",
      "mac n cheese\n"
     ]
    }
   ],
   "source": [
    "my_tuple = ('burger', 'hot dogs', 'waffles', 'chicken fingers', 'mac n cheese')\n",
    "print(\"\\nModified food:\")\n",
    "for food in my_tuple:\n",
    "    print(food)\n"
   ]
  }
 ],
 "metadata": {
  "kernelspec": {
   "display_name": "Python 3",
   "language": "python",
   "name": "python3"
  },
  "language_info": {
   "codemirror_mode": {
    "name": "ipython",
    "version": 3
   },
   "file_extension": ".py",
   "mimetype": "text/x-python",
   "name": "python",
   "nbconvert_exporter": "python",
   "pygments_lexer": "ipython3",
   "version": "3.12.1"
  }
 },
 "nbformat": 4,
 "nbformat_minor": 2
}
